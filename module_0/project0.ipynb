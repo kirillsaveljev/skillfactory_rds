{
 "cells": [
  {
   "cell_type": "code",
   "execution_count": 2,
   "metadata": {},
   "outputs": [
    {
     "name": "stdout",
     "output_type": "stream",
     "text": [
      "Среднее количество попыток: 5.73 время выполнения 0:00:00\n"
     ]
    }
   ],
   "source": [
    "from datetime import datetime\n",
    "import time\n",
    "up=100\n",
    "def what_number(x):\n",
    "    max=up\n",
    "    min=1\n",
    "    counter=0\n",
    "    answer=(max+min//2)\n",
    "    while answer!=i:\n",
    "        answer=(max+min)//2\n",
    "        if answer>i:\n",
    "            max=answer\n",
    "            counter+=1\n",
    "        elif answer<i:\n",
    "            min=answer\n",
    "            counter+=1\n",
    "        else:\n",
    "            counter+=1\n",
    "            \n",
    "    return counter\n",
    "result=0\n",
    "start_time = datetime.now()\n",
    "for i in range(1,up+1):\n",
    "    result+=what_number(i)\n",
    "    #print(i)\n",
    "    \n",
    "print('Среднее количество попыток:',result/up, 'время выполнения',datetime.now() - start_time)\n",
    "    \n",
    "            \n",
    "    "
   ]
  },
  {
   "cell_type": "code",
   "execution_count": null,
   "metadata": {},
   "outputs": [],
   "source": []
  },
  {
   "cell_type": "code",
   "execution_count": null,
   "metadata": {},
   "outputs": [],
   "source": []
  },
  {
   "cell_type": "code",
   "execution_count": null,
   "metadata": {},
   "outputs": [],
   "source": []
  }
 ],
 "metadata": {
  "kernelspec": {
   "display_name": "Python 3",
   "language": "python",
   "name": "python3"
  },
  "language_info": {
   "codemirror_mode": {
    "name": "ipython",
    "version": 3
   },
   "file_extension": ".py",
   "mimetype": "text/x-python",
   "name": "python",
   "nbconvert_exporter": "python",
   "pygments_lexer": "ipython3",
   "version": "3.7.6"
  }
 },
 "nbformat": 4,
 "nbformat_minor": 2
}
